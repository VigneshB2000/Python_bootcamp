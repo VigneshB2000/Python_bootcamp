{
 "cells": [
  {
   "cell_type": "code",
   "execution_count": 1,
   "id": "605ee82b",
   "metadata": {},
   "outputs": [],
   "source": [
    "def add(n1, n2):\n",
    "    print(n1+n2)"
   ]
  },
  {
   "cell_type": "code",
   "execution_count": 2,
   "id": "59414467",
   "metadata": {},
   "outputs": [
    {
     "name": "stdout",
     "output_type": "stream",
     "text": [
      "70\n"
     ]
    }
   ],
   "source": [
    "add(30,40)"
   ]
  },
  {
   "cell_type": "code",
   "execution_count": 3,
   "id": "b35596e6",
   "metadata": {},
   "outputs": [],
   "source": [
    "number1 = 20"
   ]
  },
  {
   "cell_type": "code",
   "execution_count": 4,
   "id": "87a47ed8",
   "metadata": {},
   "outputs": [
    {
     "name": "stdout",
     "output_type": "stream",
     "text": [
      "Please provide a number 20\n"
     ]
    }
   ],
   "source": [
    "number2 = input(\"Please provide a number \")"
   ]
  },
  {
   "cell_type": "code",
   "execution_count": 7,
   "id": "596463a9",
   "metadata": {},
   "outputs": [],
   "source": [
    "# add(number1, number2)\n",
    "#print('something happened') this won't be printed\n",
    "# Type error"
   ]
  },
  {
   "cell_type": "code",
   "execution_count": 10,
   "id": "c661345f",
   "metadata": {},
   "outputs": [
    {
     "name": "stdout",
     "output_type": "stream",
     "text": [
      "Add went well\n",
      "20\n"
     ]
    }
   ],
   "source": [
    "try:\n",
    "    result = 10 + 10\n",
    "except:\n",
    "    print(\"That's an error\")\n",
    "else:\n",
    "    print(\"Add went well\")\n",
    "    print(result)\n",
    "    "
   ]
  },
  {
   "cell_type": "code",
   "execution_count": 11,
   "id": "14810740",
   "metadata": {},
   "outputs": [
    {
     "data": {
      "text/plain": [
       "20"
      ]
     },
     "execution_count": 11,
     "metadata": {},
     "output_type": "execute_result"
    }
   ],
   "source": [
    "result"
   ]
  },
  {
   "cell_type": "code",
   "execution_count": 13,
   "id": "c174f8b9",
   "metadata": {},
   "outputs": [
    {
     "name": "stdout",
     "output_type": "stream",
     "text": [
      "There was an OS error\n",
      "I always run\n"
     ]
    }
   ],
   "source": [
    "try:\n",
    "    f = open('testfile', 'r')\n",
    "    f.write(\"Write a test line\")\n",
    "except TypeError:\n",
    "    print(\"There was a type error\")\n",
    "except OSError:\n",
    "    print(\"There was an OS error\")\n",
    "finally:\n",
    "    print(\"I always run\")"
   ]
  },
  {
   "cell_type": "code",
   "execution_count": 18,
   "id": "fa020b5f",
   "metadata": {},
   "outputs": [],
   "source": [
    "def ask_for_int():\n",
    "    while True:\n",
    "        try:\n",
    "            result = int(input(\"Please provide number: \"))\n",
    "        except:\n",
    "            print(\"Whoops! that's not a number\")\n",
    "            continue\n",
    "        else:\n",
    "            print(\"thank you\")\n",
    "            break\n",
    "        finally:\n",
    "            print(\"End of try/except/finally\")"
   ]
  },
  {
   "cell_type": "code",
   "execution_count": 19,
   "id": "b440ebc2",
   "metadata": {},
   "outputs": [
    {
     "name": "stdout",
     "output_type": "stream",
     "text": [
      "Please provide number: we\n",
      "Whoops! that's not a number\n",
      "End of try/except/finally\n",
      "Please provide number: 1\n",
      "thank you\n",
      "End of try/except/finally\n"
     ]
    }
   ],
   "source": [
    "ask_for_int()"
   ]
  },
  {
   "cell_type": "code",
   "execution_count": null,
   "id": "96e75cd9",
   "metadata": {},
   "outputs": [],
   "source": []
  }
 ],
 "metadata": {
  "kernelspec": {
   "display_name": "Python 3",
   "language": "python",
   "name": "python3"
  },
  "language_info": {
   "codemirror_mode": {
    "name": "ipython",
    "version": 3
   },
   "file_extension": ".py",
   "mimetype": "text/x-python",
   "name": "python",
   "nbconvert_exporter": "python",
   "pygments_lexer": "ipython3",
   "version": "3.8.8"
  }
 },
 "nbformat": 4,
 "nbformat_minor": 5
}
