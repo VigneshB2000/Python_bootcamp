{
 "cells": [
  {
   "cell_type": "code",
   "execution_count": 1,
   "id": "8a318863",
   "metadata": {},
   "outputs": [],
   "source": [
    "my_list = ['STRING', 100,23.3]"
   ]
  },
  {
   "cell_type": "code",
   "execution_count": 2,
   "id": "e54fc234",
   "metadata": {},
   "outputs": [
    {
     "data": {
      "text/plain": [
       "3"
      ]
     },
     "execution_count": 2,
     "metadata": {},
     "output_type": "execute_result"
    }
   ],
   "source": [
    "len(my_list)"
   ]
  },
  {
   "cell_type": "code",
   "execution_count": 3,
   "id": "df4a3a3c",
   "metadata": {},
   "outputs": [],
   "source": [
    "mylist = ['one','two','three']"
   ]
  },
  {
   "cell_type": "code",
   "execution_count": 4,
   "id": "d000f51e",
   "metadata": {},
   "outputs": [
    {
     "data": {
      "text/plain": [
       "'one'"
      ]
     },
     "execution_count": 4,
     "metadata": {},
     "output_type": "execute_result"
    }
   ],
   "source": [
    "mylist[0]"
   ]
  },
  {
   "cell_type": "code",
   "execution_count": 5,
   "id": "d022c795",
   "metadata": {},
   "outputs": [
    {
     "data": {
      "text/plain": [
       "['two', 'three']"
      ]
     },
     "execution_count": 5,
     "metadata": {},
     "output_type": "execute_result"
    }
   ],
   "source": [
    "mylist[1:]"
   ]
  },
  {
   "cell_type": "code",
   "execution_count": 6,
   "id": "ee617d91",
   "metadata": {},
   "outputs": [],
   "source": [
    "a_list = ['four', 'five']"
   ]
  },
  {
   "cell_type": "code",
   "execution_count": 7,
   "id": "0e01b41b",
   "metadata": {},
   "outputs": [],
   "source": [
    "new = mylist + a_list"
   ]
  },
  {
   "cell_type": "code",
   "execution_count": 8,
   "id": "5cabaf18",
   "metadata": {},
   "outputs": [],
   "source": [
    "new[0]='ONE ALL CAPS'"
   ]
  },
  {
   "cell_type": "code",
   "execution_count": 9,
   "id": "92def3e7",
   "metadata": {},
   "outputs": [
    {
     "data": {
      "text/plain": [
       "['ONE ALL CAPS', 'two', 'three', 'four', 'five']"
      ]
     },
     "execution_count": 9,
     "metadata": {},
     "output_type": "execute_result"
    }
   ],
   "source": [
    "new"
   ]
  },
  {
   "cell_type": "code",
   "execution_count": 10,
   "id": "c72e94a5",
   "metadata": {},
   "outputs": [],
   "source": [
    "new.append('six')"
   ]
  },
  {
   "cell_type": "code",
   "execution_count": 11,
   "id": "f9351695",
   "metadata": {},
   "outputs": [
    {
     "data": {
      "text/plain": [
       "['ONE ALL CAPS', 'two', 'three', 'four', 'five', 'six']"
      ]
     },
     "execution_count": 11,
     "metadata": {},
     "output_type": "execute_result"
    }
   ],
   "source": [
    "new"
   ]
  },
  {
   "cell_type": "code",
   "execution_count": 12,
   "id": "0f488c80",
   "metadata": {},
   "outputs": [
    {
     "data": {
      "text/plain": [
       "'six'"
      ]
     },
     "execution_count": 12,
     "metadata": {},
     "output_type": "execute_result"
    }
   ],
   "source": [
    "new.pop()"
   ]
  },
  {
   "cell_type": "code",
   "execution_count": 13,
   "id": "b2c2367b",
   "metadata": {},
   "outputs": [],
   "source": [
    "popped_item = new.pop()"
   ]
  },
  {
   "cell_type": "code",
   "execution_count": 14,
   "id": "ddb7b130",
   "metadata": {},
   "outputs": [
    {
     "data": {
      "text/plain": [
       "'five'"
      ]
     },
     "execution_count": 14,
     "metadata": {},
     "output_type": "execute_result"
    }
   ],
   "source": [
    "popped_item\n"
   ]
  },
  {
   "cell_type": "code",
   "execution_count": 15,
   "id": "1a7273f7",
   "metadata": {},
   "outputs": [
    {
     "data": {
      "text/plain": [
       "'ONE ALL CAPS'"
      ]
     },
     "execution_count": 15,
     "metadata": {},
     "output_type": "execute_result"
    }
   ],
   "source": [
    "new.pop(0)"
   ]
  },
  {
   "cell_type": "code",
   "execution_count": 16,
   "id": "f4d88e24",
   "metadata": {},
   "outputs": [
    {
     "data": {
      "text/plain": [
       "['two', 'three', 'four']"
      ]
     },
     "execution_count": 16,
     "metadata": {},
     "output_type": "execute_result"
    }
   ],
   "source": [
    "new"
   ]
  },
  {
   "cell_type": "code",
   "execution_count": 17,
   "id": "61d06010",
   "metadata": {},
   "outputs": [],
   "source": [
    "newl = ['a','e','x','b','c']\n",
    "newn = [4,1,8,3]"
   ]
  },
  {
   "cell_type": "code",
   "execution_count": 18,
   "id": "fbeb3a27",
   "metadata": {},
   "outputs": [],
   "source": [
    "newl.sort()"
   ]
  },
  {
   "cell_type": "code",
   "execution_count": 19,
   "id": "2e5fdc80",
   "metadata": {},
   "outputs": [
    {
     "data": {
      "text/plain": [
       "['a', 'b', 'c', 'e', 'x']"
      ]
     },
     "execution_count": 19,
     "metadata": {},
     "output_type": "execute_result"
    }
   ],
   "source": [
    "newl"
   ]
  },
  {
   "cell_type": "code",
   "execution_count": 20,
   "id": "bad192f7",
   "metadata": {},
   "outputs": [
    {
     "data": {
      "text/plain": [
       "NoneType"
      ]
     },
     "execution_count": 20,
     "metadata": {},
     "output_type": "execute_result"
    }
   ],
   "source": [
    "sortt = newl.sort()\n",
    "type(sortt)\n",
    "# .sort() doesn't return a value"
   ]
  },
  {
   "cell_type": "code",
   "execution_count": 21,
   "id": "483f45f5",
   "metadata": {},
   "outputs": [],
   "source": [
    "newn.reverse()"
   ]
  },
  {
   "cell_type": "code",
   "execution_count": 22,
   "id": "54203b64",
   "metadata": {},
   "outputs": [
    {
     "data": {
      "text/plain": [
       "[3, 8, 1, 4]"
      ]
     },
     "execution_count": 22,
     "metadata": {},
     "output_type": "execute_result"
    }
   ],
   "source": [
    "newn"
   ]
  },
  {
   "cell_type": "code",
   "execution_count": null,
   "id": "2d0a7e86",
   "metadata": {},
   "outputs": [],
   "source": []
  }
 ],
 "metadata": {
  "kernelspec": {
   "display_name": "Python 3",
   "language": "python",
   "name": "python3"
  },
  "language_info": {
   "codemirror_mode": {
    "name": "ipython",
    "version": 3
   },
   "file_extension": ".py",
   "mimetype": "text/x-python",
   "name": "python",
   "nbconvert_exporter": "python",
   "pygments_lexer": "ipython3",
   "version": "3.8.8"
  }
 },
 "nbformat": 4,
 "nbformat_minor": 5
}
